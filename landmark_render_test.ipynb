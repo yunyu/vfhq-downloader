{
 "cells": [
  {
   "cell_type": "code",
   "execution_count": 9,
   "metadata": {},
   "outputs": [],
   "source": [
    "import os\n",
    "\n",
    "out_dir = \"data/debug_lm478\"\n",
    "if not os.path.exists(out_dir):\n",
    "    os.makedirs(out_dir)"
   ]
  },
  {
   "cell_type": "code",
   "execution_count": 10,
   "metadata": {},
   "outputs": [],
   "source": [
    "import numpy as np\n",
    "from vfhq_dl.video_util import get_all_frames_from_video\n",
    "import cv2\n",
    "from PIL import Image\n",
    "from face_landmarking.face_landmarker import index_lm68_from_lm478\n",
    "import imageio\n",
    "from tqdm import trange\n",
    "\n",
    "def draw_lm68(img, lm68, color=None):\n",
    "    color = color or (0, 255, 255)\n",
    "    for i in range(len(lm68)):\n",
    "        x, y = map(int, lm68[i])\n",
    "        img = cv2.circle(img, (x, y), 2, color, -1)\n",
    "        img = cv2.putText(img, f\"{i}\", org=(x,y), fontFace=cv2.FONT_HERSHEY_SIMPLEX, fontScale=0.3, color=color)\n",
    "    return img\n",
    "\n",
    "def render_video_for_extracted_lm478(video_name):\n",
    "    lms = np.load(f'data/video_lm478s/{video_name}.npz')\n",
    "    \n",
    "    lm478s = lms['lm478s']\n",
    "    video_width, video_height = lms['vid_dims']\n",
    "    frames = get_all_frames_from_video(f'data/cropped_videos/{video_name}.mp4', video_width, video_height)\n",
    "  \n",
    "    writer = imageio.get_writer(os.path.join(out_dir, video_name + \".mp4\"), fps = 25, format='FFMPEG', codec='h264')\n",
    "\n",
    "    for i in trange(len(frames)):\n",
    "        lm68_drawn = draw_lm68(frames[i], lm478s[i, index_lm68_from_lm478, :])\n",
    "        writer.append_data(lm68_drawn)\n",
    "\n",
    "    writer.close()"
   ]
  },
  {
   "cell_type": "code",
   "execution_count": 11,
   "metadata": {},
   "outputs": [
    {
     "name": "stderr",
     "output_type": "stream",
     "text": [
      "100%|██████████| 240/240 [00:04<00:00, 59.78it/s]\n",
      "100%|██████████| 136/136 [00:02<00:00, 52.10it/s]\n",
      "100%|██████████| 165/165 [00:03<00:00, 54.08it/s]\n",
      "100%|██████████| 167/167 [00:01<00:00, 96.81it/s]\n",
      "100%|██████████| 638/638 [00:09<00:00, 64.16it/s]\n",
      "100%|██████████| 5/5 [00:43<00:00,  8.61s/it]\n"
     ]
    }
   ],
   "source": [
    "from tqdm import tqdm\n",
    "\n",
    "vid_names = [\n",
    "    \"Clip+z3gXzESgDsw+P0+C1\",\n",
    "    \"Clip+5FCk2skYPAo+P0+C0\",\n",
    "    \"Clip+L4hdt_JdfXE+P0+C0\",\n",
    "    \"Clip+S1jNBUr_nis+P0+C0\",\n",
    "    \"Clip+yAeWp8XNgz8+P0+C2\"\n",
    "]\n",
    "\n",
    "for vname in tqdm(vid_names):\n",
    "    render_video_for_extracted_lm478(vname)"
   ]
  },
  {
   "cell_type": "code",
   "execution_count": null,
   "metadata": {},
   "outputs": [],
   "source": []
  }
 ],
 "metadata": {
  "kernelspec": {
   "display_name": ".venv",
   "language": "python",
   "name": "python3"
  },
  "language_info": {
   "codemirror_mode": {
    "name": "ipython",
    "version": 3
   },
   "file_extension": ".py",
   "mimetype": "text/x-python",
   "name": "python",
   "nbconvert_exporter": "python",
   "pygments_lexer": "ipython3",
   "version": "3.10.13"
  }
 },
 "nbformat": 4,
 "nbformat_minor": 2
}
