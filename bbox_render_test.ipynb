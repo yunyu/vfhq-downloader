{
 "cells": [
  {
   "cell_type": "code",
   "execution_count": 1,
   "metadata": {},
   "outputs": [],
   "source": [
    "import os\n",
    "\n",
    "out_dir = \"data/debug_bbox\"\n",
    "if not os.path.exists(out_dir):\n",
    "    os.makedirs(out_dir)"
   ]
  },
  {
   "cell_type": "code",
   "execution_count": 5,
   "metadata": {},
   "outputs": [],
   "source": [
    "import numpy as np\n",
    "from vfhq_dl.video_util import get_all_frames_from_video\n",
    "import cv2\n",
    "from PIL import Image\n",
    "from face_landmarking.face_landmarker import index_lm68_from_lm478\n",
    "import imageio\n",
    "from tqdm import trange\n",
    "\n",
    "def draw_bbox_on_frame(frame, bbox):\n",
    "    x1, y1, x2, y2 = bbox\n",
    "    cv2.rectangle(frame, (x1, y1), (x2, y2), (0, 255, 0), thickness=2)\n",
    "    return frame\n",
    "\n",
    "def render_video_for_extracted_bbox(video_name):\n",
    "    lms = np.load(f'data/cropped_videos_processed/{video_name}.npz')\n",
    "    \n",
    "    bboxes = lms['bboxes']\n",
    "    video_width, video_height = lms['vid_dims']\n",
    "    frames = get_all_frames_from_video(f'data/cropped_videos/{video_name}.mp4', video_width, video_height)\n",
    "  \n",
    "    writer = imageio.get_writer(os.path.join(out_dir, video_name + \".mp4\"), fps = 25, format='FFMPEG', codec='h264')\n",
    "\n",
    "    for i in trange(len(frames)):\n",
    "        writer.append_data(draw_bbox_on_frame(frames[i], bboxes[i]))\n",
    "\n",
    "    writer.close()"
   ]
  },
  {
   "cell_type": "code",
   "execution_count": 6,
   "metadata": {},
   "outputs": [
    {
     "name": "stderr",
     "output_type": "stream",
     "text": [
      "100%|██████████| 240/240 [00:03<00:00, 67.68it/s]\n",
      "100%|██████████| 136/136 [00:01<00:00, 71.51it/s]\n",
      "100%|██████████| 165/165 [00:02<00:00, 62.29it/s]\n",
      "100%|██████████| 167/167 [00:02<00:00, 58.08it/s]\n",
      "100%|██████████| 638/638 [00:08<00:00, 76.44it/s]\n",
      "100%|██████████| 5/5 [00:45<00:00,  9.06s/it]\n"
     ]
    }
   ],
   "source": [
    "from tqdm import tqdm\n",
    "\n",
    "vid_names = [\n",
    "    \"Clip+z3gXzESgDsw+P0+C1\",\n",
    "    \"Clip+5FCk2skYPAo+P0+C0\",\n",
    "    \"Clip+L4hdt_JdfXE+P0+C0\",\n",
    "    \"Clip+S1jNBUr_nis+P0+C0\",\n",
    "    \"Clip+yAeWp8XNgz8+P0+C2\"\n",
    "]\n",
    "\n",
    "for vname in tqdm(vid_names):\n",
    "    render_video_for_extracted_bbox(vname)"
   ]
  },
  {
   "cell_type": "code",
   "execution_count": null,
   "metadata": {},
   "outputs": [],
   "source": []
  }
 ],
 "metadata": {
  "kernelspec": {
   "display_name": ".venv",
   "language": "python",
   "name": "python3"
  },
  "language_info": {
   "codemirror_mode": {
    "name": "ipython",
    "version": 3
   },
   "file_extension": ".py",
   "mimetype": "text/x-python",
   "name": "python",
   "nbconvert_exporter": "python",
   "pygments_lexer": "ipython3",
   "version": "3.10.13"
  }
 },
 "nbformat": 4,
 "nbformat_minor": 2
}
